{
 "cells": [
  {
   "cell_type": "markdown",
   "metadata": {},
   "source": [
    "Data Extraction from kaggle"
   ]
  },
  {
   "cell_type": "code",
   "execution_count": 1,
   "metadata": {},
   "outputs": [
    {
     "name": "stdout",
     "output_type": "stream",
     "text": [
      "\u001b[33mDEPRECATION: Python 2.7 will reach the end of its life on January 1st, 2020. Please upgrade your Python as Python 2.7 won't be maintained after that date. A future version of pip will drop support for Python 2.7. More details about Python 2 support in pip, can be found at https://pip.pypa.io/en/latest/development/release-process/#python-2-support\u001b[0m\n",
      "Collecting python-dotenv\n",
      "  Downloading https://files.pythonhosted.org/packages/cb/2a/07f87440444fdf2c5870a710b6770d766a1c7df9c827b0c90e807f1fb4c5/python_dotenv-0.13.0-py2.py3-none-any.whl\n",
      "Requirement already satisfied: typing; python_version < \"3.5\" in /Users/sheshnath/opt/anaconda2/lib/python2.7/site-packages (from python-dotenv) (3.7.4.1)\n",
      "Installing collected packages: python-dotenv\n",
      "Successfully installed python-dotenv-0.13.0\n"
     ]
    }
   ],
   "source": [
    "#to use the kaggle credentials install dotenv\n",
    "!pip install python-dotenv"
   ]
  },
  {
   "cell_type": "code",
   "execution_count": 3,
   "metadata": {},
   "outputs": [],
   "source": [
    "from dotenv import load_dotenv,find_dotenv"
   ]
  },
  {
   "cell_type": "code",
   "execution_count": 4,
   "metadata": {},
   "outputs": [
    {
     "data": {
      "text/plain": [
       "True"
      ]
     },
     "execution_count": 4,
     "metadata": {},
     "output_type": "execute_result"
    }
   ],
   "source": [
    "#find the dotenv by automatically walking through the directory\n",
    "dotenv_path = find_dotenv()\n",
    "\n",
    "#load up the enteries as environment variable\n",
    "load_dotenv(dotenv_path)"
   ]
  },
  {
   "cell_type": "code",
   "execution_count": 7,
   "metadata": {},
   "outputs": [
    {
     "name": "stdout",
     "output_type": "stream",
     "text": [
      "poooja20\n"
     ]
    }
   ],
   "source": [
    "#extracting environment variable using os.environ.get\n",
    "import os \n",
    "\n",
    "user_name = os.environ.get(\"kaggle_username\")\n",
    "\n",
    "print(user_name)"
   ]
  },
  {
   "cell_type": "code",
   "execution_count": 1,
   "metadata": {},
   "outputs": [
    {
     "name": "stdout",
     "output_type": "stream",
     "text": [
      "\u001b[33mDEPRECATION: Python 2.7 will reach the end of its life on January 1st, 2020. Please upgrade your Python as Python 2.7 won't be maintained after that date. A future version of pip will drop support for Python 2.7. More details about Python 2 support in pip, can be found at https://pip.pypa.io/en/latest/development/release-process/#python-2-support\u001b[0m\n",
      "Requirement already satisfied: kaggle in /Users/sheshnath/.local/lib/python2.7/site-packages (1.5.6)\n",
      "Requirement already satisfied: requests in /Users/sheshnath/opt/anaconda2/lib/python2.7/site-packages (from kaggle) (2.23.0)\n",
      "Requirement already satisfied: python-dateutil in /Users/sheshnath/opt/anaconda2/lib/python2.7/site-packages (from kaggle) (2.8.0)\n",
      "Requirement already satisfied: urllib3<1.25,>=1.21.1 in /Users/sheshnath/opt/anaconda2/lib/python2.7/site-packages (from kaggle) (1.24.2)\n",
      "Requirement already satisfied: six>=1.10 in /Users/sheshnath/opt/anaconda2/lib/python2.7/site-packages (from kaggle) (1.12.0)\n",
      "Requirement already satisfied: tqdm in /Users/sheshnath/opt/anaconda2/lib/python2.7/site-packages (from kaggle) (4.36.1)\n",
      "Requirement already satisfied: certifi in /Users/sheshnath/opt/anaconda2/lib/python2.7/site-packages (from kaggle) (2019.9.11)\n",
      "Requirement already satisfied: python-slugify in /Users/sheshnath/opt/anaconda2/lib/python2.7/site-packages (from kaggle) (4.0.0)\n",
      "Requirement already satisfied: chardet<4,>=3.0.2 in /Users/sheshnath/opt/anaconda2/lib/python2.7/site-packages (from requests->kaggle) (3.0.4)\n",
      "Requirement already satisfied: idna<3,>=2.5 in /Users/sheshnath/opt/anaconda2/lib/python2.7/site-packages (from requests->kaggle) (2.8)\n",
      "Requirement already satisfied: text-unidecode>=1.3 in /Users/sheshnath/opt/anaconda2/lib/python2.7/site-packages (from python-slugify->kaggle) (1.3)\n"
     ]
    }
   ],
   "source": [
    "!pip install kaggle"
   ]
  },
  {
   "cell_type": "code",
   "execution_count": 2,
   "metadata": {},
   "outputs": [
    {
     "name": "stdout",
     "output_type": "stream",
     "text": [
      "Collecting kaggle\n",
      "  Using cached kaggle-1.5.6.tar.gz (58 kB)\n",
      "Collecting urllib3<1.25,>=1.21.1\n",
      "  Downloading urllib3-1.24.3-py2.py3-none-any.whl (118 kB)\n",
      "\u001b[K     |████████████████████████████████| 118 kB 1.2 MB/s eta 0:00:01\n",
      "\u001b[?25hRequirement already satisfied: six>=1.10 in /opt/anaconda3/lib/python3.7/site-packages (from kaggle) (1.14.0)\n",
      "Requirement already satisfied: certifi in /opt/anaconda3/lib/python3.7/site-packages (from kaggle) (2019.11.28)\n",
      "Requirement already satisfied: python-dateutil in /opt/anaconda3/lib/python3.7/site-packages (from kaggle) (2.8.1)\n",
      "Requirement already satisfied: requests in /opt/anaconda3/lib/python3.7/site-packages (from kaggle) (2.22.0)\n",
      "Requirement already satisfied: tqdm in /opt/anaconda3/lib/python3.7/site-packages (from kaggle) (4.42.1)\n",
      "Processing /Users/sheshnath/Library/Caches/pip/wheels/11/94/81/312969455540cb0e6a773e5d68a73c14128bfdfd4a7969bb4f/python_slugify-4.0.0-py2.py3-none-any.whl\n",
      "Requirement already satisfied: chardet<3.1.0,>=3.0.2 in /opt/anaconda3/lib/python3.7/site-packages (from requests->kaggle) (3.0.4)\n",
      "Requirement already satisfied: idna<2.9,>=2.5 in /opt/anaconda3/lib/python3.7/site-packages (from requests->kaggle) (2.8)\n",
      "Collecting text-unidecode>=1.3\n",
      "  Using cached text_unidecode-1.3-py2.py3-none-any.whl (78 kB)\n",
      "Building wheels for collected packages: kaggle\n",
      "  Building wheel for kaggle (setup.py) ... \u001b[?25ldone\n",
      "\u001b[?25h  Created wheel for kaggle: filename=kaggle-1.5.6-py3-none-any.whl size=72859 sha256=598ee48e336fb75f3014607bc98d8fec7d18859d75c83a91e9b3e5af27a7e655\n",
      "  Stored in directory: /Users/sheshnath/Library/Caches/pip/wheels/aa/e7/e7/eb3c3d514c33294d77ddd5a856bdd58dc9c1fabbed59a02a2b\n",
      "Successfully built kaggle\n",
      "Installing collected packages: urllib3, text-unidecode, python-slugify, kaggle\n",
      "\u001b[33m  WARNING: The script slugify is installed in '/Users/sheshnath/.local/bin' which is not on PATH.\n",
      "  Consider adding this directory to PATH or, if you prefer to suppress this warning, use --no-warn-script-location.\u001b[0m\n",
      "\u001b[33m  WARNING: The script kaggle is installed in '/Users/sheshnath/.local/bin' which is not on PATH.\n",
      "  Consider adding this directory to PATH or, if you prefer to suppress this warning, use --no-warn-script-location.\u001b[0m\n",
      "Successfully installed kaggle-1.5.6 python-slugify-4.0.0 text-unidecode-1.3 urllib3-1.24.3\n"
     ]
    }
   ],
   "source": [
    "!pip install --user kaggle"
   ]
  },
  {
   "cell_type": "code",
   "execution_count": 5,
   "metadata": {},
   "outputs": [],
   "source": [
    "!kaggle"
   ]
  },
  {
   "cell_type": "code",
   "execution_count": 1,
   "metadata": {},
   "outputs": [
    {
     "name": "stdout",
     "output_type": "stream",
     "text": [
      "Collecting package metadata (current_repodata.json): done\n",
      "Solving environment: failed with initial frozen solve. Retrying with flexible solve.\n",
      "Collecting package metadata (repodata.json): done\n",
      "Solving environment: failed with initial frozen solve. Retrying with flexible solve.\n",
      "\n",
      "PackagesNotFoundError: The following packages are not available from current channels:\n",
      "\n",
      "  - python3\n",
      "\n",
      "Current channels:\n",
      "\n",
      "  - https://repo.anaconda.com/pkgs/main/osx-64\n",
      "  - https://repo.anaconda.com/pkgs/main/noarch\n",
      "  - https://repo.anaconda.com/pkgs/r/osx-64\n",
      "  - https://repo.anaconda.com/pkgs/r/noarch\n",
      "\n",
      "To search for alternate channels that may provide the conda package you're\n",
      "looking for, navigate to\n",
      "\n",
      "    https://anaconda.org\n",
      "\n",
      "and use the search bar at the top of the page.\n",
      "\n",
      "\n"
     ]
    }
   ],
   "source": [
    "!conda install python3"
   ]
  },
  {
   "cell_type": "code",
   "execution_count": 3,
   "metadata": {},
   "outputs": [
    {
     "name": "stdout",
     "output_type": "stream",
     "text": [
      "Kaggle API 1.5.6\r\n"
     ]
    }
   ],
   "source": [
    "!kaggle --version\n"
   ]
  },
  {
   "cell_type": "code",
   "execution_count": 5,
   "metadata": {},
   "outputs": [
    {
     "ename": "ModuleNotFoundError",
     "evalue": "No module named 'kaggle'",
     "output_type": "error",
     "traceback": [
      "\u001b[0;31m---------------------------------------------------------------------------\u001b[0m",
      "\u001b[0;31mModuleNotFoundError\u001b[0m                       Traceback (most recent call last)",
      "\u001b[0;32m<ipython-input-5-ae9062023d5f>\u001b[0m in \u001b[0;36m<module>\u001b[0;34m\u001b[0m\n\u001b[0;32m----> 1\u001b[0;31m \u001b[0;32mfrom\u001b[0m \u001b[0mkaggle\u001b[0m\u001b[0;34m.\u001b[0m\u001b[0mapi\u001b[0m\u001b[0;34m.\u001b[0m\u001b[0mkaggle_api_extended\u001b[0m \u001b[0;32mimport\u001b[0m \u001b[0mKaggleApi\u001b[0m\u001b[0;34m\u001b[0m\u001b[0;34m\u001b[0m\u001b[0m\n\u001b[0m\u001b[1;32m      2\u001b[0m \u001b[0mapi\u001b[0m \u001b[0;34m=\u001b[0m \u001b[0mKaggleApi\u001b[0m\u001b[0;34m(\u001b[0m\u001b[0;34m)\u001b[0m\u001b[0;34m\u001b[0m\u001b[0;34m\u001b[0m\u001b[0m\n\u001b[1;32m      3\u001b[0m \u001b[0mapi\u001b[0m\u001b[0;34m.\u001b[0m\u001b[0mauthenticate\u001b[0m\u001b[0;34m(\u001b[0m\u001b[0;34m)\u001b[0m\u001b[0;34m\u001b[0m\u001b[0;34m\u001b[0m\u001b[0m\n",
      "\u001b[0;31mModuleNotFoundError\u001b[0m: No module named 'kaggle'"
     ]
    }
   ],
   "source": [
    "from kaggle.api.kaggle_api_extended import KaggleApi\n",
    "api = KaggleApi()\n",
    "api.authenticate()"
   ]
  },
  {
   "cell_type": "code",
   "execution_count": 10,
   "metadata": {},
   "outputs": [
    {
     "name": "stdout",
     "output_type": "stream",
     "text": [
      "Warning: Your Kaggle API key is readable by other users on this system! To fix this, you can run 'chmod 600 /Users/sheshnath/.kaggle/kaggle.json'\n",
      "ref                                               deadline             category            reward  teamCount  userHasEntered  \n",
      "------------------------------------------------  -------------------  ---------------  ---------  ---------  --------------  \n",
      "digit-recognizer                                  2030-01-01 00:00:00  Getting Started  Knowledge       2497           False  \n",
      "titanic                                           2030-01-01 00:00:00  Getting Started  Knowledge      18923            True  \n",
      "house-prices-advanced-regression-techniques       2030-01-01 00:00:00  Getting Started  Knowledge       4572           False  \n",
      "connectx                                          2030-01-01 00:00:00  Getting Started  Knowledge        343           False  \n",
      "nlp-getting-started                               2030-01-01 00:00:00  Getting Started      Kudos       2516           False  \n",
      "competitive-data-science-predict-future-sales     2020-12-31 23:59:00  Playground           Kudos       6486           False  \n",
      "prostate-cancer-grade-assessment                  2020-07-22 23:59:00  Featured           $25,000        143           False  \n",
      "halite                                            2020-06-30 23:59:00  Featured             Kudos          0           False  \n",
      "m5-forecasting-accuracy                           2020-06-30 23:59:00  Featured           $50,000       3027           False  \n",
      "m5-forecasting-uncertainty                        2020-06-30 23:59:00  Featured           $50,000        308           False  \n",
      "trends-assessment-prediction                      2020-06-29 23:59:00  Research           $25,000        130           False  \n",
      "jigsaw-multilingual-toxic-comment-classification  2020-06-22 23:59:00  Featured           $50,000        707           False  \n",
      "tweet-sentiment-extraction                        2020-06-16 23:59:00  Featured           $15,000        727           False  \n",
      "imet-2020-fgvc7                                   2020-05-28 23:59:00  Research         Knowledge         45           False  \n",
      "abstraction-and-reasoning-challenge               2020-05-27 23:59:00  Research           $20,000        694           False  \n",
      "imaterialist-fashion-2020-fgvc7                   2020-05-26 23:59:00  Research         Knowledge         26           False  \n",
      "iwildcam-2020-fgvc7                               2020-05-26 23:59:00  Research         Knowledge         86           False  \n",
      "herbarium-2020-fgvc7                              2020-05-26 23:59:00  Research         Knowledge         71           False  \n",
      "liverpool-ion-switching                           2020-05-25 23:59:00  Research           $25,000       2033           False  \n",
      "flower-classification-with-tpus                   2020-05-11 23:59:00  Playground          Prizes        711           False  \n"
     ]
    }
   ],
   "source": [
    "import os\n",
    "os.environ['username']=\"poooja20\"\n",
    "os.environ['key']=\"d4c594e8e39d9a459352a3be9cc79830\"\n",
    "\n",
    "!kaggle competitions list"
   ]
  },
  {
   "cell_type": "code",
   "execution_count": 11,
   "metadata": {},
   "outputs": [
    {
     "name": "stdout",
     "output_type": "stream",
     "text": [
      "Warning: Your Kaggle API key is readable by other users on this system! To fix this, you can run 'chmod 600 /Users/sheshnath/.kaggle/kaggle.json'\n",
      "Downloading train.csv to /Users/sheshnath/module2/titanic/notebooks\n",
      "  0%|                                               | 0.00/59.8k [00:00<?, ?B/s]\n",
      "100%|██████████████████████████████████████| 59.8k/59.8k [00:00<00:00, 1.29MB/s]\n"
     ]
    }
   ],
   "source": [
    "!kaggle competitions download -c titanic -f train.csv"
   ]
  },
  {
   "cell_type": "code",
   "execution_count": 12,
   "metadata": {},
   "outputs": [
    {
     "name": "stdout",
     "output_type": "stream",
     "text": [
      "Downloading test.csv to /Users/sheshnath/module2/titanic/notebooks\r\n",
      "\r",
      "  0%|                                               | 0.00/28.0k [00:00<?, ?B/s]\r\n",
      "\r",
      "100%|██████████████████████████████████████| 28.0k/28.0k [00:00<00:00, 10.1MB/s]\r\n"
     ]
    }
   ],
   "source": [
    "!kaggle competitions download -c titanic -f test.csv"
   ]
  },
  {
   "cell_type": "code",
   "execution_count": null,
   "metadata": {},
   "outputs": [],
   "source": []
  }
 ],
 "metadata": {
  "kernelspec": {
   "display_name": "Python 3",
   "language": "python",
   "name": "python3"
  },
  "language_info": {
   "codemirror_mode": {
    "name": "ipython",
    "version": 3
   },
   "file_extension": ".py",
   "mimetype": "text/x-python",
   "name": "python",
   "nbconvert_exporter": "python",
   "pygments_lexer": "ipython3",
   "version": "3.7.6"
  }
 },
 "nbformat": 4,
 "nbformat_minor": 2
}
